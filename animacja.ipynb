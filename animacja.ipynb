{
 "cells": [
  {
   "cell_type": "code",
   "execution_count": 8,
   "metadata": {
    "collapsed": false
   },
   "outputs": [
    {
     "name": "stdout",
     "output_type": "stream",
     "text": [
      "155c012t8.tif\n",
      "155c012t2.tif\n",
      "155c012t4.tif\n",
      "155c012t3.tif\n",
      "155c012t5.tif\n",
      "155c012t1.tif\n",
      "155c012t7.tif\n",
      "155c012t6.tif\n"
     ]
    }
   ],
   "source": [
    "import imageio\n",
    "import os\n",
    "import fnmatch\n",
    "\n",
    "path_to_dir = r\"6s245_140C_wzrost_20x\"\n",
    "list_img = os.listdir(path_to_dir)\n",
    "images_path_list = []\n",
    "\n",
    "for f in list_img:\n",
    "   if fnmatch.fnmatch(f, '*.tif'):\n",
    "        print(f)\n",
    "        images_path_list.append(os.path.join(path_to_dir, f))\n",
    "\n",
    "\n",
    "images_path_list = sorted(images_path_list)\n",
    "\n",
    "images = []\n",
    "\n",
    "for f in images_path_list:\n",
    "    images.append(imageio.imread(f))\n",
    "    \n",
    "kargs = { 'duration': 0.5 }    \n",
    "imageio.mimsave(os.path.join(os.getcwd(), \"animacja.gif\"), images, **kargs)"
   ]
  },
  {
   "cell_type": "code",
   "execution_count": null,
   "metadata": {
    "collapsed": true
   },
   "outputs": [],
   "source": []
  }
 ],
 "metadata": {
  "kernelspec": {
   "display_name": "Python 3",
   "language": "python",
   "name": "python3"
  },
  "language_info": {
   "codemirror_mode": {
    "name": "ipython",
    "version": 3
   },
   "file_extension": ".py",
   "mimetype": "text/x-python",
   "name": "python",
   "nbconvert_exporter": "python",
   "pygments_lexer": "ipython3",
   "version": "3.6.0"
  }
 },
 "nbformat": 4,
 "nbformat_minor": 2
}
