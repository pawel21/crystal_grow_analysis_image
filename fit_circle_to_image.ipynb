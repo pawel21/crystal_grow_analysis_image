{
 "cells": [
  {
   "cell_type": "code",
   "execution_count": 1,
   "metadata": {
    "collapsed": false
   },
   "outputs": [],
   "source": [
    "%matplotlib qt5\n",
    "from skimage import io, color, measure, img_as_bool, draw\n",
    "import numpy as np\n",
    "from scipy import misc, optimize\n",
    "import matplotlib.pyplot as plt\n",
    "import os"
   ]
  },
  {
   "cell_type": "code",
   "execution_count": 10,
   "metadata": {
    "collapsed": false,
    "scrolled": true
   },
   "outputs": [],
   "source": [
    "img = misc.imread(r\"/home/pawel1/Pulpit/cbmm/seria1/pic4.tif\", mode='L')\n",
    "threshold = np.mean(img)\n",
    "img = img>threshold\n",
    "plt.imshow(img)\n",
    "plt.show()"
   ]
  },
  {
   "cell_type": "code",
   "execution_count": 11,
   "metadata": {
    "collapsed": false
   },
   "outputs": [
    {
     "name": "stdout",
     "output_type": "stream",
     "text": [
      "Optimization terminated successfully.\n",
      "         Current function value: -147619.000000\n",
      "         Iterations: 52\n",
      "         Function evaluations: 126\n"
     ]
    }
   ],
   "source": [
    "img = 1*img\n",
    "regions = measure.regionprops((img))\n",
    "bubble = regions[0]\n",
    "\n",
    "y0, x0 = bubble.centroid\n",
    "r = bubble.major_axis_length/2.\n",
    "\n",
    "def cost(params):\n",
    "    x0, y0, r = params\n",
    "    coords = draw.circle(y0, x0, r, shape=img.shape)\n",
    "    template = np.zeros_like(img)\n",
    "    template[coords] = 1\n",
    "    return -np.sum(template == img)\n",
    "\n",
    "x0, y0, r = optimize.fmin(cost,(x0, y0, r))\n",
    "\n"
   ]
  },
  {
   "cell_type": "code",
   "execution_count": 12,
   "metadata": {
    "collapsed": false
   },
   "outputs": [
    {
     "name": "stdout",
     "output_type": "stream",
     "text": [
      "24.5580567149\n"
     ]
    }
   ],
   "source": [
    "f, ax = plt.subplots()\n",
    "circle = plt.Circle((x0, y0), r, alpha=0.5)\n",
    "ax.imshow(img)\n",
    "ax.add_artist(circle)\n",
    "plt.show()\n",
    "print(r/5.66)"
   ]
  },
  {
   "cell_type": "code",
   "execution_count": null,
   "metadata": {
    "collapsed": false
   },
   "outputs": [],
   "source": [
    "!ls"
   ]
  },
  {
   "cell_type": "code",
   "execution_count": null,
   "metadata": {
    "collapsed": true
   },
   "outputs": [],
   "source": [
    "fig, (ax1, ax2, ax3) = plt.subplots(ncol=3)\n"
   ]
  }
 ],
 "metadata": {
  "kernelspec": {
   "display_name": "Python 3",
   "language": "python",
   "name": "python3"
  },
  "language_info": {
   "codemirror_mode": {
    "name": "ipython",
    "version": 3
   },
   "file_extension": ".py",
   "mimetype": "text/x-python",
   "name": "python",
   "nbconvert_exporter": "python",
   "pygments_lexer": "ipython3",
   "version": "3.6.0"
  }
 },
 "nbformat": 4,
 "nbformat_minor": 2
}
